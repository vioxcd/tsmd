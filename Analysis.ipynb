{
 "cells": [
  {
   "cell_type": "code",
   "execution_count": 1,
   "id": "d2b481da",
   "metadata": {},
   "outputs": [],
   "source": [
    "import os\n",
    "from datetime import datetime\n",
    "import json\n",
    "\n",
    "import pandas as pd"
   ]
  },
  {
   "cell_type": "code",
   "execution_count": 2,
   "id": "bdb60095",
   "metadata": {},
   "outputs": [
    {
     "data": {
      "text/plain": [
       "['/home/uchan/Documents/me/browsing-sessions/Browsing-Sessions - 2020-08-16 22-22-41.json',\n",
       " '/home/uchan/Documents/me/browsing-sessions/884 Sessions - 2022-04-18 06-36-16.json',\n",
       " '/home/uchan/Documents/me/browsing-sessions/Sessions - 2020-12-05 15-59-23.json',\n",
       " '/home/uchan/Documents/me/browsing-sessions/883 Sessions - 2022-03-25 09-19-12.json',\n",
       " '/home/uchan/Documents/me/browsing-sessions/Sessions-Feb2020.json']"
      ]
     },
     "execution_count": 2,
     "metadata": {},
     "output_type": "execute_result"
    }
   ],
   "source": [
    "SESSION_FOLDER_PATH = '/home/uchan/Documents/me/browsing-sessions'\n",
    "\n",
    "FILES = list(map(lambda p: os.path.join(SESSION_FOLDER_PATH, p), os.listdir(SESSION_FOLDER_PATH)))\n",
    "FILES"
   ]
  },
  {
   "cell_type": "code",
   "execution_count": 88,
   "id": "098295c3",
   "metadata": {},
   "outputs": [],
   "source": [
    "def timestamp_to_date(some_date):\n",
    "    return datetime.utcfromtimestamp(some_date/1000).strftime('%d-%m-%Y %H:%M:%S')\n",
    "\n",
    "\n",
    "def _load_file(file):\n",
    "    with open(file, 'r') as f:\n",
    "        data = json.load(f)\n",
    "    return data\n",
    "\n",
    "\n",
    "def check_browsing_periods(file):\n",
    "    print(f'loading {file}')\n",
    "    data = _load_file(file)\n",
    "    \n",
    "    total_record = len(data)\n",
    "    earliest_record = timestamp_to_date(data[0]['date'])\n",
    "    latest_record   = timestamp_to_date(data[-1]['date'])\n",
    "    \n",
    "    print(f'Total record   : {total_record}')\n",
    "    print(f'Earliest record: {earliest_record}')\n",
    "    print(f'Latest record  : {latest_record}')\n",
    "    print('=' * 15)"
   ]
  },
  {
   "cell_type": "code",
   "execution_count": 89,
   "id": "146f1387",
   "metadata": {},
   "outputs": [
    {
     "name": "stdout",
     "output_type": "stream",
     "text": [
      "loading /home/uchan/Documents/me/browsing-sessions/Browsing-Sessions - 2020-08-16 22-22-41.json\n",
      "Total record   : 166\n",
      "Earliest record: 26-10-2019 15:08:59\n",
      "Latest record  : 23-06-2019 15:19:00\n",
      "===============\n",
      "loading /home/uchan/Documents/me/browsing-sessions/884 Sessions - 2022-04-18 06-36-16.json\n",
      "Total record   : 884\n",
      "Earliest record: 19-08-2021 00:01:33\n",
      "Latest record  : 16-01-2022 03:51:30\n",
      "===============\n",
      "loading /home/uchan/Documents/me/browsing-sessions/Sessions - 2020-12-05 15-59-23.json\n",
      "Total record   : 324\n",
      "Earliest record: 26-10-2019 15:08:59\n",
      "Latest record  : 13-10-2020 14:46:29\n",
      "===============\n",
      "loading /home/uchan/Documents/me/browsing-sessions/883 Sessions - 2022-03-25 09-19-12.json\n",
      "Total record   : 883\n",
      "Earliest record: 19-08-2021 00:01:33\n",
      "Latest record  : 16-01-2022 03:51:30\n",
      "===============\n",
      "loading /home/uchan/Documents/me/browsing-sessions/Sessions-Feb2020.json\n",
      "Total record   : 468\n",
      "Earliest record: 26-10-2019 15:08:59\n",
      "Latest record  : 13-10-2020 14:46:29\n",
      "===============\n"
     ]
    }
   ],
   "source": [
    "for file in FILES:\n",
    "    check_browsing_periods(file)"
   ]
  },
  {
   "cell_type": "code",
   "execution_count": 34,
   "id": "446bcf5b",
   "metadata": {},
   "outputs": [
    {
     "data": {
      "text/plain": [
       "dict_keys(['windows', 'windowsNumber', 'windowsInfo', 'tabsNumber', 'name', 'date', 'tag', 'sessionStartTime', 'id', 'lastEditedTime'])"
      ]
     },
     "execution_count": 34,
     "metadata": {},
     "output_type": "execute_result"
    }
   ],
   "source": [
    "import copy\n",
    "sample = copy.deepcopy(data[-1])\n",
    "sample.keys()"
   ]
  },
  {
   "cell_type": "code",
   "execution_count": 65,
   "id": "49aff406",
   "metadata": {},
   "outputs": [
    {
     "data": {
      "text/plain": [
       "'CP Vid'"
      ]
     },
     "execution_count": 65,
     "metadata": {},
     "output_type": "execute_result"
    }
   ],
   "source": [
    "sample['name']"
   ]
  },
  {
   "cell_type": "code",
   "execution_count": 61,
   "id": "93348f17",
   "metadata": {
    "scrolled": false
   },
   "outputs": [
    {
     "data": {
      "text/plain": [
       "17"
      ]
     },
     "execution_count": 61,
     "metadata": {},
     "output_type": "execute_result"
    }
   ],
   "source": [
    "sample['windows']['1'].keys()"
   ]
  },
  {
   "cell_type": "code",
   "execution_count": 37,
   "id": "20997524",
   "metadata": {},
   "outputs": [
    {
     "data": {
      "text/plain": [
       "dict_keys(['id', 'index', 'windowId', 'highlighted', 'active', 'attention', 'pinned', 'status', 'hidden', 'discarded', 'incognito', 'width', 'height', 'lastAccessed', 'audible', 'mutedInfo', 'isArticle', 'isInReaderMode', 'sharingState', 'successorTabId', 'cookieStoreId', 'url', 'title', 'favIconUrl'])"
      ]
     },
     "execution_count": 37,
     "metadata": {},
     "output_type": "execute_result"
    }
   ],
   "source": [
    "sample['windows']['1']['1'].keys()"
   ]
  },
  {
   "cell_type": "code",
   "execution_count": 66,
   "id": "232116c4",
   "metadata": {},
   "outputs": [
    {
     "data": {
      "text/plain": [
       "'C++ Programming Tutorial 3 - C++ Concepts Explained - YouTube'"
      ]
     },
     "execution_count": 66,
     "metadata": {},
     "output_type": "execute_result"
    }
   ],
   "source": [
    "sample['windows']['1']['1']['title']"
   ]
  },
  {
   "cell_type": "code",
   "execution_count": 38,
   "id": "f38636f4",
   "metadata": {},
   "outputs": [
    {
     "data": {
      "text/plain": [
       "'https://www.youtube.com/watch?v=i0B_0b3EKFs&list=PL_c9BZzLwBRJVJsIfe97ey45V4LP_HXiG&index=4'"
      ]
     },
     "execution_count": 38,
     "metadata": {},
     "output_type": "execute_result"
    }
   ],
   "source": [
    "sample['windows']['1']['1']['url']"
   ]
  },
  {
   "cell_type": "code",
   "execution_count": 36,
   "id": "de22f74b",
   "metadata": {},
   "outputs": [
    {
     "data": {
      "text/plain": [
       "'23-06-2019 15:19:00'"
      ]
     },
     "execution_count": 36,
     "metadata": {},
     "output_type": "execute_result"
    }
   ],
   "source": [
    "timestamp_to_date(sample['windows']['1']['1']['lastAccessed'])"
   ]
  }
 ],
 "metadata": {
  "kernelspec": {
   "display_name": "Python 3",
   "language": "python",
   "name": "python3"
  },
  "language_info": {
   "codemirror_mode": {
    "name": "ipython",
    "version": 3
   },
   "file_extension": ".py",
   "mimetype": "text/x-python",
   "name": "python",
   "nbconvert_exporter": "python",
   "pygments_lexer": "ipython3",
   "version": "3.7.7"
  }
 },
 "nbformat": 4,
 "nbformat_minor": 5
}
