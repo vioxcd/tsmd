{
 "cells": [
  {
   "cell_type": "code",
   "execution_count": 1,
   "id": "d2b481da",
   "metadata": {},
   "outputs": [],
   "source": [
    "import os\n",
    "import json\n",
    "from datetime import datetime\n",
    "\n",
    "import pandas as pd"
   ]
  },
  {
   "cell_type": "markdown",
   "id": "e525b8e9",
   "metadata": {},
   "source": [
    "#### Extract"
   ]
  },
  {
   "cell_type": "code",
   "execution_count": 2,
   "id": "bdb60095",
   "metadata": {},
   "outputs": [
    {
     "data": {
      "text/plain": [
       "['/home/uchan/Documents/me/browsing-sessions/Browsing-Sessions - 2020-08-16 22-22-41.json',\n",
       " '/home/uchan/Documents/me/browsing-sessions/884 Sessions - 2022-04-18 06-36-16.json',\n",
       " '/home/uchan/Documents/me/browsing-sessions/Sessions - 2020-12-05 15-59-23.json',\n",
       " '/home/uchan/Documents/me/browsing-sessions/883 Sessions - 2022-03-25 09-19-12.json',\n",
       " '/home/uchan/Documents/me/browsing-sessions/Sessions-Feb2020.json']"
      ]
     },
     "execution_count": 2,
     "metadata": {},
     "output_type": "execute_result"
    }
   ],
   "source": [
    "SESSION_FOLDER_PATH = '/home/uchan/Documents/me/browsing-sessions'\n",
    "\n",
    "FILES = list(map(lambda p: os.path.join(SESSION_FOLDER_PATH, p), os.listdir(SESSION_FOLDER_PATH)))\n",
    "FILES"
   ]
  },
  {
   "cell_type": "code",
   "execution_count": 72,
   "id": "53e106de",
   "metadata": {},
   "outputs": [],
   "source": [
    "def timestamp_to_date(some_date, as_string=True):\n",
    "    converted_date = datetime.utcfromtimestamp(some_date/1000)\n",
    "    if as_string:\n",
    "        return converted_date.strftime('%d-%m-%Y %H:%M:%S')\n",
    "    return converted_date\n",
    "\n",
    "\n",
    "def _load_file(file):\n",
    "    with open(file, 'r') as f:\n",
    "        data = json.load(f)\n",
    "    return data\n",
    "\n",
    "\n",
    "def check_browsing_periods(file):\n",
    "    print(f'loading {file}')\n",
    "    data = _load_file(file)\n",
    "    \n",
    "    total_record = len(data)\n",
    "    earliest_record = timestamp_to_date(data[0]['date'])\n",
    "    latest_record   = timestamp_to_date(data[-1]['date'])\n",
    "    \n",
    "    print(f'Total record   : {total_record}')\n",
    "    print(f'Earliest record: {earliest_record}')\n",
    "    print(f'Latest record  : {latest_record}')\n",
    "    print('=' * 15)"
   ]
  },
  {
   "cell_type": "code",
   "execution_count": 4,
   "id": "6c73f7f7",
   "metadata": {},
   "outputs": [
    {
     "name": "stdout",
     "output_type": "stream",
     "text": [
      "loading /home/uchan/Documents/me/browsing-sessions/Browsing-Sessions - 2020-08-16 22-22-41.json\n",
      "Total record   : 166\n",
      "Earliest record: 26-10-2019 15:08:59\n",
      "Latest record  : 23-06-2019 15:19:00\n",
      "===============\n",
      "loading /home/uchan/Documents/me/browsing-sessions/884 Sessions - 2022-04-18 06-36-16.json\n",
      "Total record   : 884\n",
      "Earliest record: 19-08-2021 00:01:33\n",
      "Latest record  : 16-01-2022 03:51:30\n",
      "===============\n",
      "loading /home/uchan/Documents/me/browsing-sessions/Sessions - 2020-12-05 15-59-23.json\n",
      "Total record   : 324\n",
      "Earliest record: 26-10-2019 15:08:59\n",
      "Latest record  : 13-10-2020 14:46:29\n",
      "===============\n",
      "loading /home/uchan/Documents/me/browsing-sessions/883 Sessions - 2022-03-25 09-19-12.json\n",
      "Total record   : 883\n",
      "Earliest record: 19-08-2021 00:01:33\n",
      "Latest record  : 16-01-2022 03:51:30\n",
      "===============\n",
      "loading /home/uchan/Documents/me/browsing-sessions/Sessions-Feb2020.json\n",
      "Total record   : 468\n",
      "Earliest record: 26-10-2019 15:08:59\n",
      "Latest record  : 13-10-2020 14:46:29\n",
      "===============\n"
     ]
    }
   ],
   "source": [
    "for file in FILES:\n",
    "    check_browsing_periods(file)"
   ]
  },
  {
   "cell_type": "code",
   "execution_count": 7,
   "id": "b74453fa",
   "metadata": {},
   "outputs": [
    {
     "data": {
      "text/plain": [
       "dict_keys(['windows', 'windowsNumber', 'windowsInfo', 'tabsNumber', 'name', 'date', 'tag', 'sessionStartTime', 'id', 'lastEditedTime'])"
      ]
     },
     "execution_count": 7,
     "metadata": {},
     "output_type": "execute_result"
    }
   ],
   "source": [
    "# FOR EXPLORATION PURPOSES\n",
    "\"\"\"\n",
    "sample = _load_file(FILES[0])\n",
    "sample[0].keys()\n",
    "\n",
    "sample[0]['windows']['1']['2'].keys()\n",
    "sample[0]['windows']['1']['2']['lastAccessed']\n",
    "\"\"\""
   ]
  },
  {
   "cell_type": "markdown",
   "id": "408e67e6",
   "metadata": {},
   "source": [
    "\"\"\"\n",
    "Data Structure:\n",
    "\n",
    "Session: \n",
    "    ___ attr: windows, tabsNumber, name, date, tag, sessionStartTime, id\n",
    "Windows:\n",
    "    ___ attr: id, name, url, lastAccessed\n",
    "\n",
    "Session: {\n",
    "    'windows': {\n",
    "        '1': {\n",
    "            {\n",
    "                '1': Windows...,\n",
    "                '2': Windows...,\n",
    "                '3': Windows...,\n",
    "            }\n",
    "        }\n",
    "    }\n",
    "}\n",
    "\"\"\""
   ]
  },
  {
   "cell_type": "code",
   "execution_count": 60,
   "id": "dc55e131",
   "metadata": {},
   "outputs": [],
   "source": [
    "def extract_data_from_window(data):\n",
    "    records = []\n",
    "    for d in data:\n",
    "        record = {\n",
    "                'session_id': d['id'],\n",
    "                'session_tabsNumber': d['tabsNumber'],\n",
    "                'session_name': d['name'],\n",
    "                'session_date': d['date'],\n",
    "                'session_tag': d['tag'],\n",
    "                'session_sessionStartTime': d['sessionStartTime'],\n",
    "        }\n",
    "        \n",
    "        for k in d['windows'].values():\n",
    "            for window in k.values():\n",
    "                record['window_name'] = window['title']\n",
    "                record['window_url'] = window['url']\n",
    "                record['window_lastAccessed'] = window['lastAccessed']\n",
    "                records.append(record)\n",
    "\n",
    "    return records"
   ]
  },
  {
   "cell_type": "code",
   "execution_count": 61,
   "id": "2c0903f3",
   "metadata": {},
   "outputs": [
    {
     "name": "stdout",
     "output_type": "stream",
     "text": [
      "processing /home/uchan/Documents/me/browsing-sessions/Browsing-Sessions - 2020-08-16 22-22-41.json\n",
      "processing /home/uchan/Documents/me/browsing-sessions/884 Sessions - 2022-04-18 06-36-16.json\n",
      "processing /home/uchan/Documents/me/browsing-sessions/Sessions - 2020-12-05 15-59-23.json\n",
      "processing /home/uchan/Documents/me/browsing-sessions/883 Sessions - 2022-03-25 09-19-12.json\n",
      "processing /home/uchan/Documents/me/browsing-sessions/Sessions-Feb2020.json\n"
     ]
    },
    {
     "data": {
      "text/plain": [
       "82509"
      ]
     },
     "execution_count": 61,
     "metadata": {},
     "output_type": "execute_result"
    }
   ],
   "source": [
    "data = []\n",
    "\n",
    "for file in FILES:\n",
    "    print(f'processing {file}')\n",
    "    json_data = _load_file(file)\n",
    "    data.extend(extract_data_from_window(json_data))\n",
    "    \n",
    "len(data)"
   ]
  },
  {
   "cell_type": "code",
   "execution_count": 62,
   "id": "62f78d88",
   "metadata": {},
   "outputs": [
    {
     "data": {
      "text/plain": [
       "{'session_id': '002383d7-cf3d-4d17-b9c2-701bbfb99b22',\n",
       " 'session_tabsNumber': 6,\n",
       " 'session_name': 'Networking',\n",
       " 'session_date': 1572102539130,\n",
       " 'session_tag': ['networking'],\n",
       " 'session_sessionStartTime': 1572060943565,\n",
       " 'window_name': '(1425) Computer Networking: Part 1 of 3 - Georgia Tech - YouTube',\n",
       " 'window_url': 'https://www.youtube.com/playlist?list=PLAwxTw4SYaPn21MqCiFq2r0FSjk9l6cW2',\n",
       " 'window_lastAccessed': 1572102336044}"
      ]
     },
     "execution_count": 62,
     "metadata": {},
     "output_type": "execute_result"
    }
   ],
   "source": [
    "data[0]"
   ]
  },
  {
   "cell_type": "code",
   "execution_count": 63,
   "id": "9b99eed4",
   "metadata": {},
   "outputs": [
    {
     "data": {
      "text/html": [
       "<div>\n",
       "<style scoped>\n",
       "    .dataframe tbody tr th:only-of-type {\n",
       "        vertical-align: middle;\n",
       "    }\n",
       "\n",
       "    .dataframe tbody tr th {\n",
       "        vertical-align: top;\n",
       "    }\n",
       "\n",
       "    .dataframe thead th {\n",
       "        text-align: right;\n",
       "    }\n",
       "</style>\n",
       "<table border=\"1\" class=\"dataframe\">\n",
       "  <thead>\n",
       "    <tr style=\"text-align: right;\">\n",
       "      <th></th>\n",
       "      <th>session_id</th>\n",
       "      <th>session_tabsNumber</th>\n",
       "      <th>session_name</th>\n",
       "      <th>session_date</th>\n",
       "      <th>session_tag</th>\n",
       "      <th>session_sessionStartTime</th>\n",
       "      <th>window_name</th>\n",
       "      <th>window_url</th>\n",
       "      <th>window_lastAccessed</th>\n",
       "    </tr>\n",
       "  </thead>\n",
       "  <tbody>\n",
       "    <tr>\n",
       "      <th>0</th>\n",
       "      <td>002383d7-cf3d-4d17-b9c2-701bbfb99b22</td>\n",
       "      <td>6</td>\n",
       "      <td>Networking</td>\n",
       "      <td>1572102539130</td>\n",
       "      <td>[networking]</td>\n",
       "      <td>1572060943565</td>\n",
       "      <td>(1425) Computer Networking: Part 1 of 3 - Geor...</td>\n",
       "      <td>https://www.youtube.com/playlist?list=PLAwxTw4...</td>\n",
       "      <td>1572102336044</td>\n",
       "    </tr>\n",
       "    <tr>\n",
       "      <th>1</th>\n",
       "      <td>002383d7-cf3d-4d17-b9c2-701bbfb99b22</td>\n",
       "      <td>6</td>\n",
       "      <td>Networking</td>\n",
       "      <td>1572102539130</td>\n",
       "      <td>[networking]</td>\n",
       "      <td>1572060943565</td>\n",
       "      <td>(1425) Computer Networking: Part 1 of 3 - Geor...</td>\n",
       "      <td>https://www.youtube.com/playlist?list=PLAwxTw4...</td>\n",
       "      <td>1572102336044</td>\n",
       "    </tr>\n",
       "    <tr>\n",
       "      <th>2</th>\n",
       "      <td>002383d7-cf3d-4d17-b9c2-701bbfb99b22</td>\n",
       "      <td>6</td>\n",
       "      <td>Networking</td>\n",
       "      <td>1572102539130</td>\n",
       "      <td>[networking]</td>\n",
       "      <td>1572060943565</td>\n",
       "      <td>(1425) Computer Networking: Part 1 of 3 - Geor...</td>\n",
       "      <td>https://www.youtube.com/playlist?list=PLAwxTw4...</td>\n",
       "      <td>1572102336044</td>\n",
       "    </tr>\n",
       "    <tr>\n",
       "      <th>3</th>\n",
       "      <td>002383d7-cf3d-4d17-b9c2-701bbfb99b22</td>\n",
       "      <td>6</td>\n",
       "      <td>Networking</td>\n",
       "      <td>1572102539130</td>\n",
       "      <td>[networking]</td>\n",
       "      <td>1572060943565</td>\n",
       "      <td>(1425) Computer Networking: Part 1 of 3 - Geor...</td>\n",
       "      <td>https://www.youtube.com/playlist?list=PLAwxTw4...</td>\n",
       "      <td>1572102336044</td>\n",
       "    </tr>\n",
       "    <tr>\n",
       "      <th>4</th>\n",
       "      <td>002383d7-cf3d-4d17-b9c2-701bbfb99b22</td>\n",
       "      <td>6</td>\n",
       "      <td>Networking</td>\n",
       "      <td>1572102539130</td>\n",
       "      <td>[networking]</td>\n",
       "      <td>1572060943565</td>\n",
       "      <td>(1425) Computer Networking: Part 1 of 3 - Geor...</td>\n",
       "      <td>https://www.youtube.com/playlist?list=PLAwxTw4...</td>\n",
       "      <td>1572102336044</td>\n",
       "    </tr>\n",
       "  </tbody>\n",
       "</table>\n",
       "</div>"
      ],
      "text/plain": [
       "                             session_id  session_tabsNumber session_name  \\\n",
       "0  002383d7-cf3d-4d17-b9c2-701bbfb99b22                   6   Networking   \n",
       "1  002383d7-cf3d-4d17-b9c2-701bbfb99b22                   6   Networking   \n",
       "2  002383d7-cf3d-4d17-b9c2-701bbfb99b22                   6   Networking   \n",
       "3  002383d7-cf3d-4d17-b9c2-701bbfb99b22                   6   Networking   \n",
       "4  002383d7-cf3d-4d17-b9c2-701bbfb99b22                   6   Networking   \n",
       "\n",
       "    session_date   session_tag  session_sessionStartTime  \\\n",
       "0  1572102539130  [networking]             1572060943565   \n",
       "1  1572102539130  [networking]             1572060943565   \n",
       "2  1572102539130  [networking]             1572060943565   \n",
       "3  1572102539130  [networking]             1572060943565   \n",
       "4  1572102539130  [networking]             1572060943565   \n",
       "\n",
       "                                         window_name  \\\n",
       "0  (1425) Computer Networking: Part 1 of 3 - Geor...   \n",
       "1  (1425) Computer Networking: Part 1 of 3 - Geor...   \n",
       "2  (1425) Computer Networking: Part 1 of 3 - Geor...   \n",
       "3  (1425) Computer Networking: Part 1 of 3 - Geor...   \n",
       "4  (1425) Computer Networking: Part 1 of 3 - Geor...   \n",
       "\n",
       "                                          window_url  window_lastAccessed  \n",
       "0  https://www.youtube.com/playlist?list=PLAwxTw4...        1572102336044  \n",
       "1  https://www.youtube.com/playlist?list=PLAwxTw4...        1572102336044  \n",
       "2  https://www.youtube.com/playlist?list=PLAwxTw4...        1572102336044  \n",
       "3  https://www.youtube.com/playlist?list=PLAwxTw4...        1572102336044  \n",
       "4  https://www.youtube.com/playlist?list=PLAwxTw4...        1572102336044  "
      ]
     },
     "execution_count": 63,
     "metadata": {},
     "output_type": "execute_result"
    }
   ],
   "source": [
    "df = pd.DataFrame(data)\n",
    "df.head()"
   ]
  },
  {
   "cell_type": "code",
   "execution_count": 80,
   "id": "472e62c5",
   "metadata": {},
   "outputs": [],
   "source": [
    "CSV_PATH = 'merged_sessions.csv'\n",
    "df.to_csv(CSV_PATH, index=False)"
   ]
  },
  {
   "cell_type": "code",
   "execution_count": 82,
   "id": "488433dd",
   "metadata": {},
   "outputs": [],
   "source": [
    "JSON_PATH = 'merged_sessions.json'\n",
    "df.to_json(JSON_PATH, indent=4)"
   ]
  },
  {
   "cell_type": "markdown",
   "id": "de47eece",
   "metadata": {},
   "source": [
    "#### Transform"
   ]
  },
  {
   "cell_type": "code",
   "execution_count": 76,
   "id": "cf8540db",
   "metadata": {},
   "outputs": [
    {
     "data": {
      "text/html": [
       "<div>\n",
       "<style scoped>\n",
       "    .dataframe tbody tr th:only-of-type {\n",
       "        vertical-align: middle;\n",
       "    }\n",
       "\n",
       "    .dataframe tbody tr th {\n",
       "        vertical-align: top;\n",
       "    }\n",
       "\n",
       "    .dataframe thead th {\n",
       "        text-align: right;\n",
       "    }\n",
       "</style>\n",
       "<table border=\"1\" class=\"dataframe\">\n",
       "  <thead>\n",
       "    <tr style=\"text-align: right;\">\n",
       "      <th></th>\n",
       "      <th>session_id</th>\n",
       "      <th>session_tabsNumber</th>\n",
       "      <th>session_name</th>\n",
       "      <th>session_date</th>\n",
       "      <th>session_tag</th>\n",
       "      <th>session_sessionStartTime</th>\n",
       "      <th>window_name</th>\n",
       "      <th>window_url</th>\n",
       "      <th>window_lastAccessed</th>\n",
       "    </tr>\n",
       "  </thead>\n",
       "  <tbody>\n",
       "    <tr>\n",
       "      <th>0</th>\n",
       "      <td>002383d7-cf3d-4d17-b9c2-701bbfb99b22</td>\n",
       "      <td>6</td>\n",
       "      <td>Networking</td>\n",
       "      <td>2019-10-26 15:08:59.130</td>\n",
       "      <td>[networking]</td>\n",
       "      <td>2019-10-26 03:35:43.565</td>\n",
       "      <td>(1425) Computer Networking: Part 1 of 3 - Geor...</td>\n",
       "      <td>https://www.youtube.com/playlist?list=PLAwxTw4...</td>\n",
       "      <td>2019-10-26 15:05:36.044</td>\n",
       "    </tr>\n",
       "    <tr>\n",
       "      <th>1</th>\n",
       "      <td>002383d7-cf3d-4d17-b9c2-701bbfb99b22</td>\n",
       "      <td>6</td>\n",
       "      <td>Networking</td>\n",
       "      <td>2019-10-26 15:08:59.130</td>\n",
       "      <td>[networking]</td>\n",
       "      <td>2019-10-26 03:35:43.565</td>\n",
       "      <td>(1425) Computer Networking: Part 1 of 3 - Geor...</td>\n",
       "      <td>https://www.youtube.com/playlist?list=PLAwxTw4...</td>\n",
       "      <td>2019-10-26 15:05:36.044</td>\n",
       "    </tr>\n",
       "    <tr>\n",
       "      <th>2</th>\n",
       "      <td>002383d7-cf3d-4d17-b9c2-701bbfb99b22</td>\n",
       "      <td>6</td>\n",
       "      <td>Networking</td>\n",
       "      <td>2019-10-26 15:08:59.130</td>\n",
       "      <td>[networking]</td>\n",
       "      <td>2019-10-26 03:35:43.565</td>\n",
       "      <td>(1425) Computer Networking: Part 1 of 3 - Geor...</td>\n",
       "      <td>https://www.youtube.com/playlist?list=PLAwxTw4...</td>\n",
       "      <td>2019-10-26 15:05:36.044</td>\n",
       "    </tr>\n",
       "    <tr>\n",
       "      <th>3</th>\n",
       "      <td>002383d7-cf3d-4d17-b9c2-701bbfb99b22</td>\n",
       "      <td>6</td>\n",
       "      <td>Networking</td>\n",
       "      <td>2019-10-26 15:08:59.130</td>\n",
       "      <td>[networking]</td>\n",
       "      <td>2019-10-26 03:35:43.565</td>\n",
       "      <td>(1425) Computer Networking: Part 1 of 3 - Geor...</td>\n",
       "      <td>https://www.youtube.com/playlist?list=PLAwxTw4...</td>\n",
       "      <td>2019-10-26 15:05:36.044</td>\n",
       "    </tr>\n",
       "    <tr>\n",
       "      <th>4</th>\n",
       "      <td>002383d7-cf3d-4d17-b9c2-701bbfb99b22</td>\n",
       "      <td>6</td>\n",
       "      <td>Networking</td>\n",
       "      <td>2019-10-26 15:08:59.130</td>\n",
       "      <td>[networking]</td>\n",
       "      <td>2019-10-26 03:35:43.565</td>\n",
       "      <td>(1425) Computer Networking: Part 1 of 3 - Geor...</td>\n",
       "      <td>https://www.youtube.com/playlist?list=PLAwxTw4...</td>\n",
       "      <td>2019-10-26 15:05:36.044</td>\n",
       "    </tr>\n",
       "  </tbody>\n",
       "</table>\n",
       "</div>"
      ],
      "text/plain": [
       "                             session_id  session_tabsNumber session_name  \\\n",
       "0  002383d7-cf3d-4d17-b9c2-701bbfb99b22                   6   Networking   \n",
       "1  002383d7-cf3d-4d17-b9c2-701bbfb99b22                   6   Networking   \n",
       "2  002383d7-cf3d-4d17-b9c2-701bbfb99b22                   6   Networking   \n",
       "3  002383d7-cf3d-4d17-b9c2-701bbfb99b22                   6   Networking   \n",
       "4  002383d7-cf3d-4d17-b9c2-701bbfb99b22                   6   Networking   \n",
       "\n",
       "             session_date   session_tag session_sessionStartTime  \\\n",
       "0 2019-10-26 15:08:59.130  [networking]  2019-10-26 03:35:43.565   \n",
       "1 2019-10-26 15:08:59.130  [networking]  2019-10-26 03:35:43.565   \n",
       "2 2019-10-26 15:08:59.130  [networking]  2019-10-26 03:35:43.565   \n",
       "3 2019-10-26 15:08:59.130  [networking]  2019-10-26 03:35:43.565   \n",
       "4 2019-10-26 15:08:59.130  [networking]  2019-10-26 03:35:43.565   \n",
       "\n",
       "                                         window_name  \\\n",
       "0  (1425) Computer Networking: Part 1 of 3 - Geor...   \n",
       "1  (1425) Computer Networking: Part 1 of 3 - Geor...   \n",
       "2  (1425) Computer Networking: Part 1 of 3 - Geor...   \n",
       "3  (1425) Computer Networking: Part 1 of 3 - Geor...   \n",
       "4  (1425) Computer Networking: Part 1 of 3 - Geor...   \n",
       "\n",
       "                                          window_url     window_lastAccessed  \n",
       "0  https://www.youtube.com/playlist?list=PLAwxTw4... 2019-10-26 15:05:36.044  \n",
       "1  https://www.youtube.com/playlist?list=PLAwxTw4... 2019-10-26 15:05:36.044  \n",
       "2  https://www.youtube.com/playlist?list=PLAwxTw4... 2019-10-26 15:05:36.044  \n",
       "3  https://www.youtube.com/playlist?list=PLAwxTw4... 2019-10-26 15:05:36.044  \n",
       "4  https://www.youtube.com/playlist?list=PLAwxTw4... 2019-10-26 15:05:36.044  "
      ]
     },
     "execution_count": 76,
     "metadata": {},
     "output_type": "execute_result"
    }
   ],
   "source": [
    "# df.session_date = pd.to_datetime(df.session_date, unit='s')\n",
    "df.session_date = df.session_date.apply(timestamp_to_date, as_string=False)\n",
    "df.session_sessionStartTime = df.session_sessionStartTime.apply(timestamp_to_date, as_string=False)\n",
    "df.window_lastAccessed = df.window_lastAccessed.apply(timestamp_to_date, as_string=False)\n",
    "\n",
    "df.head()"
   ]
  },
  {
   "cell_type": "markdown",
   "id": "069dcbd0",
   "metadata": {},
   "source": [
    "#### Load (Later Analysis)"
   ]
  },
  {
   "cell_type": "code",
   "execution_count": 100,
   "id": "00a2d4f6",
   "metadata": {},
   "outputs": [],
   "source": [
    "years_and_months = set([\n",
    "    (year, month) for year in range(2018,2023) for month in range(1,13)\n",
    "])"
   ]
  },
  {
   "cell_type": "code",
   "execution_count": 101,
   "id": "d7973ca9",
   "metadata": {},
   "outputs": [],
   "source": [
    "def extract_years_and_months(date):\n",
    "    return (date.year, date.month)"
   ]
  },
  {
   "cell_type": "code",
   "execution_count": 102,
   "id": "f0b320f3",
   "metadata": {},
   "outputs": [],
   "source": [
    "data_years_and_months = df.session_date.apply(extract_years_and_months)\n",
    "data_years_and_months = set(data_years_and_months)"
   ]
  },
  {
   "cell_type": "code",
   "execution_count": 103,
   "id": "3e0dfb02",
   "metadata": {},
   "outputs": [
    {
     "data": {
      "text/plain": [
       "{(2018, 1),\n",
       " (2018, 2),\n",
       " (2018, 3),\n",
       " (2018, 4),\n",
       " (2018, 5),\n",
       " (2018, 6),\n",
       " (2018, 7),\n",
       " (2018, 8),\n",
       " (2018, 9),\n",
       " (2018, 10),\n",
       " (2018, 11),\n",
       " (2019, 1),\n",
       " (2019, 2),\n",
       " (2019, 3),\n",
       " (2019, 7),\n",
       " (2019, 8),\n",
       " (2022, 5),\n",
       " (2022, 6),\n",
       " (2022, 7),\n",
       " (2022, 8),\n",
       " (2022, 9),\n",
       " (2022, 10),\n",
       " (2022, 11),\n",
       " (2022, 12)}"
      ]
     },
     "execution_count": 103,
     "metadata": {},
     "output_type": "execute_result"
    }
   ],
   "source": [
    "# it's dates that are not on the data.\n",
    "# possible explanation:\n",
    "#     2019-1 ~ 2019-3 I was on an internship;\n",
    "#     2019-7 ~ 2019-8 I was on a social service\n",
    "years_and_months.difference(data_years_and_months)"
   ]
  }
 ],
 "metadata": {
  "kernelspec": {
   "display_name": "Python 3",
   "language": "python",
   "name": "python3"
  },
  "language_info": {
   "codemirror_mode": {
    "name": "ipython",
    "version": 3
   },
   "file_extension": ".py",
   "mimetype": "text/x-python",
   "name": "python",
   "nbconvert_exporter": "python",
   "pygments_lexer": "ipython3",
   "version": "3.7.7"
  }
 },
 "nbformat": 4,
 "nbformat_minor": 5
}
