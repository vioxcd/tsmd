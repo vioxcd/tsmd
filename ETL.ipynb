{
 "cells": [
  {
   "cell_type": "code",
   "execution_count": 1,
   "id": "d2b481da",
   "metadata": {},
   "outputs": [],
   "source": [
    "import os\n",
    "import json\n",
    "from datetime import datetime\n",
    "\n",
    "import pandas as pd"
   ]
  },
  {
   "cell_type": "markdown",
   "id": "67a633f3",
   "metadata": {},
   "source": [
    "#### Initial Load"
   ]
  },
  {
   "cell_type": "code",
   "execution_count": null,
   "id": "58478106",
   "metadata": {},
   "outputs": [],
   "source": [
    "SESSION_FOLDER_PATH = '/home/uchan/Documents/me/browsing-sessions'\n",
    "FILES = list(map(lambda p: os.path.join(SESSION_FOLDER_PATH, p), os.listdir(SESSION_FOLDER_PATH)))"
   ]
  },
  {
   "cell_type": "code",
   "execution_count": 2,
   "id": "bdb60095",
   "metadata": {
    "tags": [
     "exclude_in_script"
    ]
   },
   "outputs": [
    {
     "data": {
      "text/plain": [
       "['/home/uchan/Documents/me/browsing-sessions/Browsing-Sessions - 2020-08-16 22-22-41.json',\n",
       " '/home/uchan/Documents/me/browsing-sessions/884 Sessions - 2022-04-18 06-36-16.json',\n",
       " '/home/uchan/Documents/me/browsing-sessions/Sessions - 2020-12-05 15-59-23.json',\n",
       " '/home/uchan/Documents/me/browsing-sessions/883 Sessions - 2022-03-25 09-19-12.json',\n",
       " '/home/uchan/Documents/me/browsing-sessions/Sessions-Feb2020.json']"
      ]
     },
     "execution_count": 2,
     "metadata": {},
     "output_type": "execute_result"
    }
   ],
   "source": [
    "FILES"
   ]
  },
  {
   "cell_type": "code",
   "execution_count": 3,
   "id": "fe757473",
   "metadata": {},
   "outputs": [],
   "source": [
    "def timestamp_to_date(some_date, as_string=True):\n",
    "    converted_date = datetime.utcfromtimestamp(some_date/1000)\n",
    "    if as_string:\n",
    "        return converted_date.strftime('%d-%m-%Y %H:%M:%S')\n",
    "    return converted_date\n",
    "\n",
    "\n",
    "def _load_file(file):\n",
    "    with open(file, 'r') as f:\n",
    "        data = json.load(f)\n",
    "    return data\n",
    "\n",
    "\n",
    "def check_browsing_periods(file):\n",
    "    print(f'loading {file}')\n",
    "    data = _load_file(file)\n",
    "    \n",
    "    total_record = len(data)\n",
    "    earliest_record = timestamp_to_date(data[0]['date'])\n",
    "    latest_record   = timestamp_to_date(data[-1]['date'])\n",
    "    \n",
    "    print(f'Total record   : {total_record}')\n",
    "    print(f'Earliest record: {earliest_record}')\n",
    "    print(f'Latest record  : {latest_record}')\n",
    "    print('=' * 15)"
   ]
  },
  {
   "cell_type": "code",
   "execution_count": 4,
   "id": "41b8702b",
   "metadata": {
    "tags": [
     "exclude_in_script"
    ]
   },
   "outputs": [
    {
     "name": "stdout",
     "output_type": "stream",
     "text": [
      "loading /home/uchan/Documents/me/browsing-sessions/Browsing-Sessions - 2020-08-16 22-22-41.json\n",
      "Total record   : 166\n",
      "Earliest record: 26-10-2019 15:08:59\n",
      "Latest record  : 23-06-2019 15:19:00\n",
      "===============\n",
      "loading /home/uchan/Documents/me/browsing-sessions/884 Sessions - 2022-04-18 06-36-16.json\n",
      "Total record   : 884\n",
      "Earliest record: 19-08-2021 00:01:33\n",
      "Latest record  : 16-01-2022 03:51:30\n",
      "===============\n",
      "loading /home/uchan/Documents/me/browsing-sessions/Sessions - 2020-12-05 15-59-23.json\n",
      "Total record   : 324\n",
      "Earliest record: 26-10-2019 15:08:59\n",
      "Latest record  : 13-10-2020 14:46:29\n",
      "===============\n",
      "loading /home/uchan/Documents/me/browsing-sessions/883 Sessions - 2022-03-25 09-19-12.json\n",
      "Total record   : 883\n",
      "Earliest record: 19-08-2021 00:01:33\n",
      "Latest record  : 16-01-2022 03:51:30\n",
      "===============\n",
      "loading /home/uchan/Documents/me/browsing-sessions/Sessions-Feb2020.json\n",
      "Total record   : 468\n",
      "Earliest record: 26-10-2019 15:08:59\n",
      "Latest record  : 13-10-2020 14:46:29\n",
      "===============\n"
     ]
    }
   ],
   "source": [
    "\"\"\"There are 5 files, and their records have overlapping timestamps\"\"\"\n",
    "for file in FILES:\n",
    "    check_browsing_periods(file)"
   ]
  },
  {
   "cell_type": "markdown",
   "id": "148d6529",
   "metadata": {
    "tags": [
     "exclude_in_script"
    ]
   },
   "source": [
    "#### FOR EXPLORATION PURPOSES"
   ]
  },
  {
   "cell_type": "markdown",
   "id": "299936e9",
   "metadata": {
    "tags": [
     "exclude_in_script"
    ]
   },
   "source": [
    "Data Structure:\n",
    "\n",
    "Session: \n",
    "    ___ attr: windows, tabsNumber, name, date, tag, sessionStartTime, id\n",
    "    \n",
    "Windows:\n",
    "    ___ attr: id, name, url, lastAccessed\n",
    "\n",
    "Session: {\n",
    "    'windows': {\n",
    "        '1': {\n",
    "            {\n",
    "                '1': Windows...,\n",
    "                '2': Windows...,\n",
    "                '3': Windows...,\n",
    "            }\n",
    "        }\n",
    "    }\n",
    "}"
   ]
  },
  {
   "cell_type": "code",
   "execution_count": 155,
   "id": "d610e6b3",
   "metadata": {
    "tags": [
     "exclude_in_script"
    ]
   },
   "outputs": [
    {
     "data": {
      "text/plain": [
       "1572102539132"
      ]
     },
     "execution_count": 155,
     "metadata": {},
     "output_type": "execute_result"
    }
   ],
   "source": [
    "sample = _load_file(FILES[0])\n",
    "sample[0].keys()\n",
    "\n",
    "sample[0]['windows']['1']['2'].keys()\n",
    "sample[0]['windows']['1']['2']['lastAccessed']"
   ]
  },
  {
   "cell_type": "code",
   "execution_count": 156,
   "id": "c8004b84",
   "metadata": {
    "tags": [
     "exclude_in_script"
    ]
   },
   "outputs": [
    {
     "data": {
      "text/plain": [
       "dict_keys(['1', '79', '261'])"
      ]
     },
     "execution_count": 156,
     "metadata": {},
     "output_type": "execute_result"
    }
   ],
   "source": [
    "# Windows ID\n",
    "sample[5]['windows'].keys()"
   ]
  },
  {
   "cell_type": "code",
   "execution_count": 157,
   "id": "822dc2c1",
   "metadata": {
    "tags": [
     "exclude_in_script"
    ]
   },
   "outputs": [
    {
     "data": {
      "text/plain": [
       "dict_keys(['33', '34', '51', '53', '60', '61', '62', '63', '64', '67', '69', '70', '71'])"
      ]
     },
     "execution_count": 157,
     "metadata": {},
     "output_type": "execute_result"
    }
   ],
   "source": [
    "sample[5]['windows']['79'].keys()"
   ]
  },
  {
   "cell_type": "code",
   "execution_count": 158,
   "id": "df224a1c",
   "metadata": {
    "tags": [
     "exclude_in_script"
    ]
   },
   "outputs": [
    {
     "data": {
      "text/plain": [
       "dict_keys(['55', '56', '58', '59'])"
      ]
     },
     "execution_count": 158,
     "metadata": {},
     "output_type": "execute_result"
    }
   ],
   "source": [
    "sample[5]['windows']['261'].keys()"
   ]
  },
  {
   "cell_type": "code",
   "execution_count": 159,
   "id": "61861d08",
   "metadata": {
    "scrolled": false,
    "tags": [
     "exclude_in_script"
    ]
   },
   "outputs": [
    {
     "data": {
      "text/plain": [
       "dict_keys(['1', '4', '5', '6', '7', '8', '9', '10', '12', '13', '21', '22', '24', '25'])"
      ]
     },
     "execution_count": 159,
     "metadata": {},
     "output_type": "execute_result"
    }
   ],
   "source": [
    "# Tabs ID\n",
    "sample[5]['windows']['1'].keys()"
   ]
  },
  {
   "cell_type": "code",
   "execution_count": 160,
   "id": "e29eaaaa",
   "metadata": {
    "tags": [
     "exclude_in_script"
    ]
   },
   "outputs": [
    {
     "data": {
      "text/plain": [
       "dict_keys(['33', '34', '51', '53', '60', '61', '62', '63', '64', '67', '69', '70', '71'])"
      ]
     },
     "execution_count": 160,
     "metadata": {},
     "output_type": "execute_result"
    }
   ],
   "source": [
    "sample[5]['windows']['79'].keys()"
   ]
  },
  {
   "cell_type": "code",
   "execution_count": 161,
   "id": "4e51acc2",
   "metadata": {
    "tags": [
     "exclude_in_script"
    ]
   },
   "outputs": [
    {
     "data": {
      "text/plain": [
       "dict_keys(['55', '56', '58', '59'])"
      ]
     },
     "execution_count": 161,
     "metadata": {},
     "output_type": "execute_result"
    }
   ],
   "source": [
    "sample[5]['windows']['261'].keys()"
   ]
  },
  {
   "cell_type": "code",
   "execution_count": 162,
   "id": "287ea3e4",
   "metadata": {
    "tags": [
     "exclude_in_script"
    ]
   },
   "outputs": [
    {
     "data": {
      "text/plain": [
       "dict_keys(['id', 'index', 'windowId', 'highlighted', 'active', 'attention', 'pinned', 'status', 'hidden', 'discarded', 'incognito', 'width', 'height', 'lastAccessed', 'audible', 'mutedInfo', 'isArticle', 'isInReaderMode', 'sharingState', 'successorTabId', 'cookieStoreId', 'url', 'title', 'favIconUrl'])"
      ]
     },
     "execution_count": 162,
     "metadata": {},
     "output_type": "execute_result"
    }
   ],
   "source": [
    "# Tabs properties\n",
    "sample[5]['windows']['1']['1'].keys()"
   ]
  },
  {
   "cell_type": "code",
   "execution_count": 163,
   "id": "0d1ad1b2",
   "metadata": {
    "scrolled": false,
    "tags": [
     "exclude_in_script"
    ]
   },
   "outputs": [
    {
     "name": "stdout",
     "output_type": "stream",
     "text": [
      "Google Translate \n",
      " https://translate.google.com/#view=home&op=translate&sl=en&tl=id&text=weave \n",
      " 2020-04-08 21:39:26\n"
     ]
    }
   ],
   "source": [
    "# Print out tabs properties\n",
    "print(\n",
    "    sample[5]['windows']['1']['1']['title'], '\\n',\n",
    "    sample[5]['windows']['1']['1']['url'], '\\n',\n",
    "    datetime.fromtimestamp(\n",
    "        int(sample[5]['windows']['1']['1']['lastAccessed'])/1000\n",
    "    ).strftime('%Y-%m-%d %H:%M:%S')\n",
    ")"
   ]
  },
  {
   "cell_type": "code",
   "execution_count": 164,
   "id": "9b4ea4ba",
   "metadata": {
    "tags": [
     "exclude_in_script"
    ]
   },
   "outputs": [
    {
     "name": "stdout",
     "output_type": "stream",
     "text": [
      "10 Must-Read Software Development Blogs – The Phrase Blog | Software Localization Experts \n",
      " https://phrase.com/blog/posts/10-must-read-blogs-for-software-developer/ \n",
      " 2020-04-08 21:39:26\n"
     ]
    }
   ],
   "source": [
    "# Try out other tabs\n",
    "print(\n",
    "    sample[5]['windows']['1']['4']['title'], '\\n',\n",
    "    sample[5]['windows']['1']['4']['url'], '\\n',\n",
    "    datetime.fromtimestamp(\n",
    "        int(sample[5]['windows']['1']['1']['lastAccessed'])/1000\n",
    "    ).strftime('%Y-%m-%d %H:%M:%S')\n",
    ")"
   ]
  },
  {
   "cell_type": "code",
   "execution_count": 165,
   "id": "91d91e02",
   "metadata": {
    "tags": [
     "exclude_in_script"
    ]
   },
   "outputs": [
    {
     "name": "stdout",
     "output_type": "stream",
     "text": [
      "tech-interview-handbook/preparing at master · yangshun/tech-interview-handbook \n",
      " https://github.com/yangshun/tech-interview-handbook/tree/master/preparing \n",
      " 2020-04-08 21:39:26\n"
     ]
    }
   ],
   "source": [
    "# Try out other tabs\n",
    "print(\n",
    "    sample[5]['windows']['1']['5']['title'], '\\n',\n",
    "    sample[5]['windows']['1']['5']['url'], '\\n',\n",
    "    datetime.fromtimestamp(\n",
    "        int(sample[5]['windows']['1']['1']['lastAccessed'])/1000\n",
    "    ).strftime('%Y-%m-%d %H:%M:%S')\n",
    ")"
   ]
  },
  {
   "cell_type": "code",
   "execution_count": 66,
   "id": "a5a56d20",
   "metadata": {
    "tags": [
     "exclude_in_script"
    ]
   },
   "outputs": [
    {
     "name": "stdout",
     "output_type": "stream",
     "text": [
      "(71) etcd - YouTube \n",
      " https://www.youtube.com/results?search_query=etcd \n",
      " 2020-04-08 22:24:39\n"
     ]
    }
   ],
   "source": [
    "# Try out other windows\n",
    "print(\n",
    "    sample[5]['windows']['79']['33']['title'], '\\n',\n",
    "    sample[5]['windows']['79']['33']['url'], '\\n',\n",
    "    datetime.fromtimestamp(\n",
    "        int(sample[5]['windows']['79']['33']['lastAccessed'])/1000\n",
    "    ).strftime('%Y-%m-%d %H:%M:%S')\n",
    ")"
   ]
  },
  {
   "cell_type": "code",
   "execution_count": 67,
   "id": "095d9178",
   "metadata": {
    "tags": [
     "exclude_in_script"
    ]
   },
   "outputs": [
    {
     "name": "stdout",
     "output_type": "stream",
     "text": [
      "(71) The Twelve-Factor Container — Casey West - YouTube \n",
      " https://www.youtube.com/watch?v=69UlcL5DTao \n",
      " 2020-04-08 22:24:39\n"
     ]
    }
   ],
   "source": [
    "# Try out other windows\n",
    "print(\n",
    "    sample[5]['windows']['79']['34']['title'], '\\n',\n",
    "    sample[5]['windows']['79']['34']['url'], '\\n',\n",
    "    datetime.fromtimestamp(\n",
    "        int(sample[5]['windows']['79']['33']['lastAccessed'])/1000\n",
    "    ).strftime('%Y-%m-%d %H:%M:%S')\n",
    ")"
   ]
  },
  {
   "cell_type": "code",
   "execution_count": 69,
   "id": "60390300",
   "metadata": {
    "tags": [
     "exclude_in_script"
    ]
   },
   "outputs": [
    {
     "name": "stdout",
     "output_type": "stream",
     "text": [
      "Google Translate \n",
      " https://translate.google.com/#view=home&op=translate&sl=en&tl=id&text=sophisticated \n",
      " 2020-04-08 22:32:34\n"
     ]
    }
   ],
   "source": [
    "# Try out other windows\n",
    "print(\n",
    "    sample[5]['windows']['261']['55']['title'], '\\n',\n",
    "    sample[5]['windows']['261']['55']['url'], '\\n',\n",
    "    datetime.fromtimestamp(\n",
    "        int(sample[5]['windows']['261']['55']['lastAccessed'])/1000\n",
    "    ).strftime('%Y-%m-%d %H:%M:%S')\n",
    ")"
   ]
  },
  {
   "cell_type": "code",
   "execution_count": 70,
   "id": "3f8ef9f7",
   "metadata": {
    "tags": [
     "exclude_in_script"
    ]
   },
   "outputs": [
    {
     "name": "stdout",
     "output_type": "stream",
     "text": [
      "(1142) Scott Meyers – The Most Important Design Guideline - YouTube \n",
      " https://www.youtube.com/watch?v=5tg1ONG18H8 \n",
      " 2020-04-08 22:32:34\n"
     ]
    }
   ],
   "source": [
    "# Try out other windows\n",
    "print(\n",
    "    sample[5]['windows']['261']['56']['title'], '\\n',\n",
    "    sample[5]['windows']['261']['56']['url'], '\\n',\n",
    "    datetime.fromtimestamp(\n",
    "        int(sample[5]['windows']['261']['56']['lastAccessed'])/1000\n",
    "    ).strftime('%Y-%m-%d %H:%M:%S')\n",
    ")"
   ]
  },
  {
   "cell_type": "markdown",
   "id": "347944db",
   "metadata": {},
   "source": [
    "#### Extraction"
   ]
  },
  {
   "cell_type": "code",
   "execution_count": 108,
   "id": "9095f36e",
   "metadata": {
    "scrolled": true,
    "tags": [
     "exclude_in_script"
    ]
   },
   "outputs": [
    {
     "name": "stdout",
     "output_type": "stream",
     "text": [
      "Google Translate\n",
      "https://translate.google.com/#view=home&op=translate&sl=en&tl=id&text=desperation\n",
      "1572102539132\n",
      "(1425) Computer Networking Complete Course by Google - Beginner to Advanced - YouTube\n",
      "https://www.youtube.com/watch?v=QKfk7YFILws&t=25s\n",
      "1572102299151\n",
      "(1425) Network Direction - YouTube\n",
      "https://www.youtube.com/channel/UCtuXekfqj-paqsxtqVNCC2A\n",
      "1572102364663\n",
      "(1425) CS144 Introduction to Computer Networking Fall 2016 Stanford University - YouTube\n",
      "https://www.youtube.com/playlist?list=PLvFG2xYBrYAQCyz4Wx3NPoYJOFjvU7g2Z\n",
      "1572102312487\n",
      "(1425) Computer Networks (CIS 345) - YouTube\n",
      "https://www.youtube.com/playlist?list=PLLFIgriuZPAcCkmSTfcq7oaHcVy3rzEtc\n",
      "1572102319580\n",
      "(1425) Computer Networking: Part 1 of 3 - Georgia Tech - YouTube\n",
      "https://www.youtube.com/playlist?list=PLAwxTw4SYaPn21MqCiFq2r0FSjk9l6cW2\n",
      "1572102336044\n"
     ]
    }
   ],
   "source": [
    "\"\"\"Testing Samples\"\"\"\n",
    "# for session in sample:\n",
    "#     record = {\n",
    "#         'session_id': session['id'],\n",
    "#         'session_tabsNumber': session['tabsNumber'],\n",
    "#         'session_name': session['name'],\n",
    "#         'session_date': session['date'],\n",
    "#         'session_tag': session['tag'],\n",
    "#         'session_sessionStartTime': session['sessionStartTime'],\n",
    "#     }\n",
    "    \n",
    "#     for window_id in session['windows']:\n",
    "#         for tab in session['windows'][window_id].values():\n",
    "#             print(tab['title'])\n",
    "#             print(tab['url'])\n",
    "#             print(tab['lastAccessed'])\n",
    "#         break\n",
    "#     break"
   ]
  },
  {
   "cell_type": "code",
   "execution_count": 196,
   "id": "e78d753a",
   "metadata": {
    "tags": [
     "exclude_in_script"
    ]
   },
   "outputs": [
    {
     "data": {
      "text/plain": [
       "'Debugging'"
      ]
     },
     "execution_count": 196,
     "metadata": {},
     "output_type": "execute_result"
    }
   ],
   "source": [
    "\"\"\"Debugging\"\"\"\n",
    "# test_data = [\n",
    "#     {\n",
    "#         'windows': {\n",
    "#             '1': {\n",
    "#                 '1': { 'name': 'data 1' },\n",
    "#                 '2': { 'name': 'data 2' }\n",
    "#             }\n",
    "#         }\n",
    "#     },\n",
    "#     {\n",
    "#        'windows': {\n",
    "#             '1': {\n",
    "#                 '1': { 'name': 'next data 1' },\n",
    "#                 '2': { 'name': 'next data 2' }\n",
    "#             }\n",
    "#         }\n",
    "#     }, \n",
    "# ]\n",
    "\n",
    "# def extract_data_from_window(data):\n",
    "#     records = []\n",
    "#     for session in data:\n",
    "#         record = { }\n",
    "#         for window_id in session['windows']:\n",
    "#             for tab in session['windows'][window_id].values():\n",
    "#                 record['name'] = tab['name']\n",
    "#                 print(f'appending {record}')\n",
    "#                 records.append(record)\n",
    "\n",
    "#     return records\n",
    "\n",
    "# extract_data_from_window(test_data)"
   ]
  },
  {
   "cell_type": "code",
   "execution_count": 192,
   "id": "c8e47cea",
   "metadata": {},
   "outputs": [],
   "source": [
    "def extract_data_from_window(data):\n",
    "    records = []\n",
    "    for session in data:\n",
    "        for window_id in session['windows']:\n",
    "            for tab in session['windows'][window_id].values():\n",
    "                record = {\n",
    "                    'session_id': session['id'],\n",
    "                    'session_tabsNumber': session['tabsNumber'],\n",
    "                    'session_name': session['name'],\n",
    "                    'session_date': session['date'],\n",
    "                    'session_tag': session['tag'],\n",
    "                    'session_sessionStartTime': session['sessionStartTime'],\n",
    "                    'tab_name': tab['title'],\n",
    "                    'tab_url': tab['url'],\n",
    "                    'tab_lastAccessed': tab['lastAccessed']\n",
    "                }\n",
    "                records.append(record)\n",
    "\n",
    "    return records"
   ]
  },
  {
   "cell_type": "code",
   "execution_count": 183,
   "id": "c39e1848",
   "metadata": {
    "scrolled": true
   },
   "outputs": [
    {
     "name": "stdout",
     "output_type": "stream",
     "text": [
      "processing /home/uchan/Documents/me/browsing-sessions/Browsing-Sessions - 2020-08-16 22-22-41.json\n",
      "processing /home/uchan/Documents/me/browsing-sessions/884 Sessions - 2022-04-18 06-36-16.json\n",
      "processing /home/uchan/Documents/me/browsing-sessions/Sessions - 2020-12-05 15-59-23.json\n",
      "processing /home/uchan/Documents/me/browsing-sessions/883 Sessions - 2022-03-25 09-19-12.json\n",
      "processing /home/uchan/Documents/me/browsing-sessions/Sessions-Feb2020.json\n"
     ]
    },
    {
     "data": {
      "text/plain": [
       "82509"
      ]
     },
     "execution_count": 183,
     "metadata": {},
     "output_type": "execute_result"
    }
   ],
   "source": [
    "\"\"\"Join all the data for easier analysis\"\"\"\n",
    "data = []\n",
    "\n",
    "for file in FILES:\n",
    "    print(f'processing {file}')\n",
    "    json_data = _load_file(file)\n",
    "    records = extract_data_from_window(json_data)\n",
    "    data.extend(records)\n",
    "    \n",
    "print(f'Amount of data: {len(data)}')"
   ]
  },
  {
   "cell_type": "code",
   "execution_count": null,
   "id": "980284bd",
   "metadata": {},
   "outputs": [],
   "source": [
    "df = pd.DataFrame(data)"
   ]
  },
  {
   "cell_type": "code",
   "execution_count": 184,
   "id": "e9061f80",
   "metadata": {
    "tags": [
     "exclude_in_script"
    ]
   },
   "outputs": [
    {
     "data": {
      "text/html": [
       "<div>\n",
       "<style scoped>\n",
       "    .dataframe tbody tr th:only-of-type {\n",
       "        vertical-align: middle;\n",
       "    }\n",
       "\n",
       "    .dataframe tbody tr th {\n",
       "        vertical-align: top;\n",
       "    }\n",
       "\n",
       "    .dataframe thead th {\n",
       "        text-align: right;\n",
       "    }\n",
       "</style>\n",
       "<table border=\"1\" class=\"dataframe\">\n",
       "  <thead>\n",
       "    <tr style=\"text-align: right;\">\n",
       "      <th></th>\n",
       "      <th>session_id</th>\n",
       "      <th>session_tabsNumber</th>\n",
       "      <th>session_name</th>\n",
       "      <th>session_date</th>\n",
       "      <th>session_tag</th>\n",
       "      <th>session_sessionStartTime</th>\n",
       "      <th>tab_name</th>\n",
       "      <th>tab_url</th>\n",
       "      <th>tab_lastAccessed</th>\n",
       "    </tr>\n",
       "  </thead>\n",
       "  <tbody>\n",
       "    <tr>\n",
       "      <th>0</th>\n",
       "      <td>002383d7-cf3d-4d17-b9c2-701bbfb99b22</td>\n",
       "      <td>6</td>\n",
       "      <td>Networking</td>\n",
       "      <td>1572102539130</td>\n",
       "      <td>[networking]</td>\n",
       "      <td>1572060943565</td>\n",
       "      <td>Google Translate</td>\n",
       "      <td>https://translate.google.com/#view=home&amp;op=tra...</td>\n",
       "      <td>1572102539132</td>\n",
       "    </tr>\n",
       "    <tr>\n",
       "      <th>1</th>\n",
       "      <td>002383d7-cf3d-4d17-b9c2-701bbfb99b22</td>\n",
       "      <td>6</td>\n",
       "      <td>Networking</td>\n",
       "      <td>1572102539130</td>\n",
       "      <td>[networking]</td>\n",
       "      <td>1572060943565</td>\n",
       "      <td>(1425) Computer Networking Complete Course by ...</td>\n",
       "      <td>https://www.youtube.com/watch?v=QKfk7YFILws&amp;t=25s</td>\n",
       "      <td>1572102299151</td>\n",
       "    </tr>\n",
       "    <tr>\n",
       "      <th>2</th>\n",
       "      <td>002383d7-cf3d-4d17-b9c2-701bbfb99b22</td>\n",
       "      <td>6</td>\n",
       "      <td>Networking</td>\n",
       "      <td>1572102539130</td>\n",
       "      <td>[networking]</td>\n",
       "      <td>1572060943565</td>\n",
       "      <td>(1425) Network Direction - YouTube</td>\n",
       "      <td>https://www.youtube.com/channel/UCtuXekfqj-paq...</td>\n",
       "      <td>1572102364663</td>\n",
       "    </tr>\n",
       "    <tr>\n",
       "      <th>3</th>\n",
       "      <td>002383d7-cf3d-4d17-b9c2-701bbfb99b22</td>\n",
       "      <td>6</td>\n",
       "      <td>Networking</td>\n",
       "      <td>1572102539130</td>\n",
       "      <td>[networking]</td>\n",
       "      <td>1572060943565</td>\n",
       "      <td>(1425) CS144 Introduction to Computer Networki...</td>\n",
       "      <td>https://www.youtube.com/playlist?list=PLvFG2xY...</td>\n",
       "      <td>1572102312487</td>\n",
       "    </tr>\n",
       "    <tr>\n",
       "      <th>4</th>\n",
       "      <td>002383d7-cf3d-4d17-b9c2-701bbfb99b22</td>\n",
       "      <td>6</td>\n",
       "      <td>Networking</td>\n",
       "      <td>1572102539130</td>\n",
       "      <td>[networking]</td>\n",
       "      <td>1572060943565</td>\n",
       "      <td>(1425) Computer Networks (CIS 345) - YouTube</td>\n",
       "      <td>https://www.youtube.com/playlist?list=PLLFIgri...</td>\n",
       "      <td>1572102319580</td>\n",
       "    </tr>\n",
       "  </tbody>\n",
       "</table>\n",
       "</div>"
      ],
      "text/plain": [
       "                             session_id  session_tabsNumber session_name  \\\n",
       "0  002383d7-cf3d-4d17-b9c2-701bbfb99b22                   6   Networking   \n",
       "1  002383d7-cf3d-4d17-b9c2-701bbfb99b22                   6   Networking   \n",
       "2  002383d7-cf3d-4d17-b9c2-701bbfb99b22                   6   Networking   \n",
       "3  002383d7-cf3d-4d17-b9c2-701bbfb99b22                   6   Networking   \n",
       "4  002383d7-cf3d-4d17-b9c2-701bbfb99b22                   6   Networking   \n",
       "\n",
       "    session_date   session_tag  session_sessionStartTime  \\\n",
       "0  1572102539130  [networking]             1572060943565   \n",
       "1  1572102539130  [networking]             1572060943565   \n",
       "2  1572102539130  [networking]             1572060943565   \n",
       "3  1572102539130  [networking]             1572060943565   \n",
       "4  1572102539130  [networking]             1572060943565   \n",
       "\n",
       "                                            tab_name  \\\n",
       "0                                   Google Translate   \n",
       "1  (1425) Computer Networking Complete Course by ...   \n",
       "2                 (1425) Network Direction - YouTube   \n",
       "3  (1425) CS144 Introduction to Computer Networki...   \n",
       "4       (1425) Computer Networks (CIS 345) - YouTube   \n",
       "\n",
       "                                             tab_url  tab_lastAccessed  \n",
       "0  https://translate.google.com/#view=home&op=tra...     1572102539132  \n",
       "1  https://www.youtube.com/watch?v=QKfk7YFILws&t=25s     1572102299151  \n",
       "2  https://www.youtube.com/channel/UCtuXekfqj-paq...     1572102364663  \n",
       "3  https://www.youtube.com/playlist?list=PLvFG2xY...     1572102312487  \n",
       "4  https://www.youtube.com/playlist?list=PLLFIgri...     1572102319580  "
      ]
     },
     "execution_count": 184,
     "metadata": {},
     "output_type": "execute_result"
    }
   ],
   "source": [
    "df.head()"
   ]
  },
  {
   "cell_type": "code",
   "execution_count": 197,
   "id": "1c78bcf5",
   "metadata": {},
   "outputs": [],
   "source": [
    "\"\"\"Dumping files\"\"\"\n",
    "CSV_PATH = 'merged_sessions.csv'\n",
    "df.to_csv(CSV_PATH, index=False)\n",
    "\n",
    "JSON_PATH = 'merged_sessions.json'\n",
    "df.to_json(JSON_PATH, indent=4)"
   ]
  },
  {
   "cell_type": "markdown",
   "id": "6d2d4ccb",
   "metadata": {
    "tags": [
     "exclude_in_script"
    ]
   },
   "source": [
    "#### Transform data for QA"
   ]
  },
  {
   "cell_type": "code",
   "execution_count": 11,
   "id": "3920a41f",
   "metadata": {
    "scrolled": false,
    "tags": [
     "exclude_in_script"
    ]
   },
   "outputs": [
    {
     "data": {
      "text/html": [
       "<div>\n",
       "<style scoped>\n",
       "    .dataframe tbody tr th:only-of-type {\n",
       "        vertical-align: middle;\n",
       "    }\n",
       "\n",
       "    .dataframe tbody tr th {\n",
       "        vertical-align: top;\n",
       "    }\n",
       "\n",
       "    .dataframe thead th {\n",
       "        text-align: right;\n",
       "    }\n",
       "</style>\n",
       "<table border=\"1\" class=\"dataframe\">\n",
       "  <thead>\n",
       "    <tr style=\"text-align: right;\">\n",
       "      <th></th>\n",
       "      <th>session_id</th>\n",
       "      <th>session_tabsNumber</th>\n",
       "      <th>session_name</th>\n",
       "      <th>session_date</th>\n",
       "      <th>session_tag</th>\n",
       "      <th>session_sessionStartTime</th>\n",
       "      <th>window_name</th>\n",
       "      <th>window_url</th>\n",
       "      <th>window_lastAccessed</th>\n",
       "    </tr>\n",
       "  </thead>\n",
       "  <tbody>\n",
       "    <tr>\n",
       "      <th>0</th>\n",
       "      <td>002383d7-cf3d-4d17-b9c2-701bbfb99b22</td>\n",
       "      <td>6</td>\n",
       "      <td>Networking</td>\n",
       "      <td>2019-10-26 15:08:59.130</td>\n",
       "      <td>[networking]</td>\n",
       "      <td>2019-10-26 03:35:43.565</td>\n",
       "      <td>(1425) Computer Networking: Part 1 of 3 - Geor...</td>\n",
       "      <td>https://www.youtube.com/playlist?list=PLAwxTw4...</td>\n",
       "      <td>2019-10-26 15:05:36.044</td>\n",
       "    </tr>\n",
       "    <tr>\n",
       "      <th>1</th>\n",
       "      <td>002383d7-cf3d-4d17-b9c2-701bbfb99b22</td>\n",
       "      <td>6</td>\n",
       "      <td>Networking</td>\n",
       "      <td>2019-10-26 15:08:59.130</td>\n",
       "      <td>[networking]</td>\n",
       "      <td>2019-10-26 03:35:43.565</td>\n",
       "      <td>(1425) Computer Networking: Part 1 of 3 - Geor...</td>\n",
       "      <td>https://www.youtube.com/playlist?list=PLAwxTw4...</td>\n",
       "      <td>2019-10-26 15:05:36.044</td>\n",
       "    </tr>\n",
       "    <tr>\n",
       "      <th>2</th>\n",
       "      <td>002383d7-cf3d-4d17-b9c2-701bbfb99b22</td>\n",
       "      <td>6</td>\n",
       "      <td>Networking</td>\n",
       "      <td>2019-10-26 15:08:59.130</td>\n",
       "      <td>[networking]</td>\n",
       "      <td>2019-10-26 03:35:43.565</td>\n",
       "      <td>(1425) Computer Networking: Part 1 of 3 - Geor...</td>\n",
       "      <td>https://www.youtube.com/playlist?list=PLAwxTw4...</td>\n",
       "      <td>2019-10-26 15:05:36.044</td>\n",
       "    </tr>\n",
       "    <tr>\n",
       "      <th>3</th>\n",
       "      <td>002383d7-cf3d-4d17-b9c2-701bbfb99b22</td>\n",
       "      <td>6</td>\n",
       "      <td>Networking</td>\n",
       "      <td>2019-10-26 15:08:59.130</td>\n",
       "      <td>[networking]</td>\n",
       "      <td>2019-10-26 03:35:43.565</td>\n",
       "      <td>(1425) Computer Networking: Part 1 of 3 - Geor...</td>\n",
       "      <td>https://www.youtube.com/playlist?list=PLAwxTw4...</td>\n",
       "      <td>2019-10-26 15:05:36.044</td>\n",
       "    </tr>\n",
       "    <tr>\n",
       "      <th>4</th>\n",
       "      <td>002383d7-cf3d-4d17-b9c2-701bbfb99b22</td>\n",
       "      <td>6</td>\n",
       "      <td>Networking</td>\n",
       "      <td>2019-10-26 15:08:59.130</td>\n",
       "      <td>[networking]</td>\n",
       "      <td>2019-10-26 03:35:43.565</td>\n",
       "      <td>(1425) Computer Networking: Part 1 of 3 - Geor...</td>\n",
       "      <td>https://www.youtube.com/playlist?list=PLAwxTw4...</td>\n",
       "      <td>2019-10-26 15:05:36.044</td>\n",
       "    </tr>\n",
       "  </tbody>\n",
       "</table>\n",
       "</div>"
      ],
      "text/plain": [
       "                             session_id  session_tabsNumber session_name  \\\n",
       "0  002383d7-cf3d-4d17-b9c2-701bbfb99b22                   6   Networking   \n",
       "1  002383d7-cf3d-4d17-b9c2-701bbfb99b22                   6   Networking   \n",
       "2  002383d7-cf3d-4d17-b9c2-701bbfb99b22                   6   Networking   \n",
       "3  002383d7-cf3d-4d17-b9c2-701bbfb99b22                   6   Networking   \n",
       "4  002383d7-cf3d-4d17-b9c2-701bbfb99b22                   6   Networking   \n",
       "\n",
       "             session_date   session_tag session_sessionStartTime  \\\n",
       "0 2019-10-26 15:08:59.130  [networking]  2019-10-26 03:35:43.565   \n",
       "1 2019-10-26 15:08:59.130  [networking]  2019-10-26 03:35:43.565   \n",
       "2 2019-10-26 15:08:59.130  [networking]  2019-10-26 03:35:43.565   \n",
       "3 2019-10-26 15:08:59.130  [networking]  2019-10-26 03:35:43.565   \n",
       "4 2019-10-26 15:08:59.130  [networking]  2019-10-26 03:35:43.565   \n",
       "\n",
       "                                         window_name  \\\n",
       "0  (1425) Computer Networking: Part 1 of 3 - Geor...   \n",
       "1  (1425) Computer Networking: Part 1 of 3 - Geor...   \n",
       "2  (1425) Computer Networking: Part 1 of 3 - Geor...   \n",
       "3  (1425) Computer Networking: Part 1 of 3 - Geor...   \n",
       "4  (1425) Computer Networking: Part 1 of 3 - Geor...   \n",
       "\n",
       "                                          window_url     window_lastAccessed  \n",
       "0  https://www.youtube.com/playlist?list=PLAwxTw4... 2019-10-26 15:05:36.044  \n",
       "1  https://www.youtube.com/playlist?list=PLAwxTw4... 2019-10-26 15:05:36.044  \n",
       "2  https://www.youtube.com/playlist?list=PLAwxTw4... 2019-10-26 15:05:36.044  \n",
       "3  https://www.youtube.com/playlist?list=PLAwxTw4... 2019-10-26 15:05:36.044  \n",
       "4  https://www.youtube.com/playlist?list=PLAwxTw4... 2019-10-26 15:05:36.044  "
      ]
     },
     "execution_count": 11,
     "metadata": {},
     "output_type": "execute_result"
    }
   ],
   "source": [
    "df.session_date = df.session_date.apply(timestamp_to_date, as_string=False)\n",
    "df.session_sessionStartTime = df.session_sessionStartTime.apply(timestamp_to_date, as_string=False)\n",
    "df.window_lastAccessed = df.window_lastAccessed.apply(timestamp_to_date, as_string=False)\n",
    "\n",
    "df.head()"
   ]
  },
  {
   "cell_type": "code",
   "execution_count": 12,
   "id": "fd089f47",
   "metadata": {
    "tags": [
     "exclude_in_script"
    ]
   },
   "outputs": [
    {
     "data": {
      "text/html": [
       "<div>\n",
       "<style scoped>\n",
       "    .dataframe tbody tr th:only-of-type {\n",
       "        vertical-align: middle;\n",
       "    }\n",
       "\n",
       "    .dataframe tbody tr th {\n",
       "        vertical-align: top;\n",
       "    }\n",
       "\n",
       "    .dataframe thead th {\n",
       "        text-align: right;\n",
       "    }\n",
       "</style>\n",
       "<table border=\"1\" class=\"dataframe\">\n",
       "  <thead>\n",
       "    <tr style=\"text-align: right;\">\n",
       "      <th></th>\n",
       "      <th>session_id</th>\n",
       "      <th>session_tabsNumber</th>\n",
       "      <th>session_name</th>\n",
       "      <th>session_date</th>\n",
       "      <th>session_tag</th>\n",
       "      <th>session_sessionStartTime</th>\n",
       "      <th>window_name</th>\n",
       "      <th>window_url</th>\n",
       "      <th>window_lastAccessed</th>\n",
       "    </tr>\n",
       "  </thead>\n",
       "  <tbody>\n",
       "    <tr>\n",
       "      <th>82504</th>\n",
       "      <td>fe2ece1d-f7e0-4e6b-92ab-37da4dbbd38d</td>\n",
       "      <td>90</td>\n",
       "      <td>ETC</td>\n",
       "      <td>2020-10-13 14:46:29.142</td>\n",
       "      <td>[]</td>\n",
       "      <td>2020-10-12 21:02:16.831</td>\n",
       "      <td>pretrained models deep learning - Google Search</td>\n",
       "      <td>https://www.google.com/search?client=ubuntu&amp;ch...</td>\n",
       "      <td>2020-10-13 05:21:55.810</td>\n",
       "    </tr>\n",
       "    <tr>\n",
       "      <th>82505</th>\n",
       "      <td>fe2ece1d-f7e0-4e6b-92ab-37da4dbbd38d</td>\n",
       "      <td>90</td>\n",
       "      <td>ETC</td>\n",
       "      <td>2020-10-13 14:46:29.142</td>\n",
       "      <td>[]</td>\n",
       "      <td>2020-10-12 21:02:16.831</td>\n",
       "      <td>pretrained models deep learning - Google Search</td>\n",
       "      <td>https://www.google.com/search?client=ubuntu&amp;ch...</td>\n",
       "      <td>2020-10-13 05:21:55.810</td>\n",
       "    </tr>\n",
       "    <tr>\n",
       "      <th>82506</th>\n",
       "      <td>fe2ece1d-f7e0-4e6b-92ab-37da4dbbd38d</td>\n",
       "      <td>90</td>\n",
       "      <td>ETC</td>\n",
       "      <td>2020-10-13 14:46:29.142</td>\n",
       "      <td>[]</td>\n",
       "      <td>2020-10-12 21:02:16.831</td>\n",
       "      <td>pretrained models deep learning - Google Search</td>\n",
       "      <td>https://www.google.com/search?client=ubuntu&amp;ch...</td>\n",
       "      <td>2020-10-13 05:21:55.810</td>\n",
       "    </tr>\n",
       "    <tr>\n",
       "      <th>82507</th>\n",
       "      <td>fe2ece1d-f7e0-4e6b-92ab-37da4dbbd38d</td>\n",
       "      <td>90</td>\n",
       "      <td>ETC</td>\n",
       "      <td>2020-10-13 14:46:29.142</td>\n",
       "      <td>[]</td>\n",
       "      <td>2020-10-12 21:02:16.831</td>\n",
       "      <td>pretrained models deep learning - Google Search</td>\n",
       "      <td>https://www.google.com/search?client=ubuntu&amp;ch...</td>\n",
       "      <td>2020-10-13 05:21:55.810</td>\n",
       "    </tr>\n",
       "    <tr>\n",
       "      <th>82508</th>\n",
       "      <td>fe2ece1d-f7e0-4e6b-92ab-37da4dbbd38d</td>\n",
       "      <td>90</td>\n",
       "      <td>ETC</td>\n",
       "      <td>2020-10-13 14:46:29.142</td>\n",
       "      <td>[]</td>\n",
       "      <td>2020-10-12 21:02:16.831</td>\n",
       "      <td>pretrained models deep learning - Google Search</td>\n",
       "      <td>https://www.google.com/search?client=ubuntu&amp;ch...</td>\n",
       "      <td>2020-10-13 05:21:55.810</td>\n",
       "    </tr>\n",
       "  </tbody>\n",
       "</table>\n",
       "</div>"
      ],
      "text/plain": [
       "                                 session_id  session_tabsNumber session_name  \\\n",
       "82504  fe2ece1d-f7e0-4e6b-92ab-37da4dbbd38d                  90          ETC   \n",
       "82505  fe2ece1d-f7e0-4e6b-92ab-37da4dbbd38d                  90          ETC   \n",
       "82506  fe2ece1d-f7e0-4e6b-92ab-37da4dbbd38d                  90          ETC   \n",
       "82507  fe2ece1d-f7e0-4e6b-92ab-37da4dbbd38d                  90          ETC   \n",
       "82508  fe2ece1d-f7e0-4e6b-92ab-37da4dbbd38d                  90          ETC   \n",
       "\n",
       "                 session_date session_tag session_sessionStartTime  \\\n",
       "82504 2020-10-13 14:46:29.142          []  2020-10-12 21:02:16.831   \n",
       "82505 2020-10-13 14:46:29.142          []  2020-10-12 21:02:16.831   \n",
       "82506 2020-10-13 14:46:29.142          []  2020-10-12 21:02:16.831   \n",
       "82507 2020-10-13 14:46:29.142          []  2020-10-12 21:02:16.831   \n",
       "82508 2020-10-13 14:46:29.142          []  2020-10-12 21:02:16.831   \n",
       "\n",
       "                                           window_name  \\\n",
       "82504  pretrained models deep learning - Google Search   \n",
       "82505  pretrained models deep learning - Google Search   \n",
       "82506  pretrained models deep learning - Google Search   \n",
       "82507  pretrained models deep learning - Google Search   \n",
       "82508  pretrained models deep learning - Google Search   \n",
       "\n",
       "                                              window_url  \\\n",
       "82504  https://www.google.com/search?client=ubuntu&ch...   \n",
       "82505  https://www.google.com/search?client=ubuntu&ch...   \n",
       "82506  https://www.google.com/search?client=ubuntu&ch...   \n",
       "82507  https://www.google.com/search?client=ubuntu&ch...   \n",
       "82508  https://www.google.com/search?client=ubuntu&ch...   \n",
       "\n",
       "          window_lastAccessed  \n",
       "82504 2020-10-13 05:21:55.810  \n",
       "82505 2020-10-13 05:21:55.810  \n",
       "82506 2020-10-13 05:21:55.810  \n",
       "82507 2020-10-13 05:21:55.810  \n",
       "82508 2020-10-13 05:21:55.810  "
      ]
     },
     "execution_count": 12,
     "metadata": {},
     "output_type": "execute_result"
    }
   ],
   "source": [
    "df.tail()"
   ]
  },
  {
   "cell_type": "markdown",
   "id": "29388b48",
   "metadata": {
    "tags": [
     "exclude_in_script"
    ]
   },
   "source": [
    "#### Quality Check (Date Missing Assumptions)"
   ]
  },
  {
   "cell_type": "code",
   "execution_count": 18,
   "id": "ecce47ec",
   "metadata": {
    "tags": [
     "exclude_in_script"
    ]
   },
   "outputs": [],
   "source": [
    "dummy_years_and_months = set([\n",
    "    (year, month) for year in range(2019,2023) for month in range(1,13)\n",
    "])"
   ]
  },
  {
   "cell_type": "code",
   "execution_count": 14,
   "id": "de7009b9",
   "metadata": {
    "tags": [
     "exclude_in_script"
    ]
   },
   "outputs": [],
   "source": [
    "def extract_years_and_months(date):\n",
    "    return (date.year, date.month)"
   ]
  },
  {
   "cell_type": "code",
   "execution_count": 15,
   "id": "46dc6607",
   "metadata": {
    "tags": [
     "exclude_in_script"
    ]
   },
   "outputs": [],
   "source": [
    "data_years_and_months = df.session_date.apply(extract_years_and_months)\n",
    "data_years_and_months = set(data_years_and_months)"
   ]
  },
  {
   "cell_type": "code",
   "execution_count": 19,
   "id": "8a5d2b30",
   "metadata": {
    "tags": [
     "exclude_in_script"
    ]
   },
   "outputs": [
    {
     "data": {
      "text/plain": [
       "{(2019, 1),\n",
       " (2019, 2),\n",
       " (2019, 3),\n",
       " (2019, 7),\n",
       " (2019, 8),\n",
       " (2022, 5),\n",
       " (2022, 6),\n",
       " (2022, 7),\n",
       " (2022, 8),\n",
       " (2022, 9),\n",
       " (2022, 10),\n",
       " (2022, 11),\n",
       " (2022, 12)}"
      ]
     },
     "execution_count": 19,
     "metadata": {},
     "output_type": "execute_result"
    }
   ],
   "source": [
    "# it's dates that are not on the data.\n",
    "# possible explanation:\n",
    "#     2019-1 ~ 2019-3 I was on an internship;\n",
    "#     2019-7 ~ 2019-8 I was on a social service\n",
    "dummy_years_and_months.difference(data_years_and_months)"
   ]
  },
  {
   "cell_type": "code",
   "execution_count": 20,
   "id": "6a41de64",
   "metadata": {
    "tags": [
     "exclude_in_script"
    ]
   },
   "outputs": [
    {
     "data": {
      "text/plain": [
       "(82509, 9)"
      ]
     },
     "execution_count": 20,
     "metadata": {},
     "output_type": "execute_result"
    }
   ],
   "source": [
    "df.shape"
   ]
  },
  {
   "cell_type": "code",
   "execution_count": 21,
   "id": "c98390b7",
   "metadata": {
    "tags": [
     "exclude_in_script"
    ]
   },
   "outputs": [
    {
     "data": {
      "text/plain": [
       "81088"
      ]
     },
     "execution_count": 21,
     "metadata": {},
     "output_type": "execute_result"
    }
   ],
   "source": [
    "sum(df[['session_id', 'session_date', 'window_name', 'window_lastAccessed']].duplicated())"
   ]
  }
 ],
 "metadata": {
  "celltoolbar": "Tags",
  "kernelspec": {
   "display_name": "Python 3",
   "language": "python",
   "name": "python3"
  },
  "language_info": {
   "codemirror_mode": {
    "name": "ipython",
    "version": 3
   },
   "file_extension": ".py",
   "mimetype": "text/x-python",
   "name": "python",
   "nbconvert_exporter": "python",
   "pygments_lexer": "ipython3",
   "version": "3.7.7"
  }
 },
 "nbformat": 4,
 "nbformat_minor": 5
}
